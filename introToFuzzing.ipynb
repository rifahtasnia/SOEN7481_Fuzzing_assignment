{
 "cells": [
  {
   "cell_type": "markdown",
   "metadata": {},
   "source": [
    "# Introduction to Fuzzing"
   ]
  },
  {
   "cell_type": "markdown",
   "metadata": {},
   "source": [
    "Note: A lot of the contents are taken from the [fuzzing book](https://www.fuzzingbook.org) with some modifications.\n"
   ]
  },
  {
   "cell_type": "markdown",
   "metadata": {},
   "source": [
    "* Fuzzing is a way to automatically generate test cases in order to uncover unexpected program behaviour (e.g., crashes, memory leaks, or other types of bugs). \n",
    "\n",
    "\n",
    "* In many cases, we try to *automatically* generate *random* inputs to test a program. \n"
   ]
  },
  {
   "cell_type": "markdown",
   "metadata": {},
   "source": [
    "Let's install some dependencies. The code below installs the dependency in Jupyter only. A recommended way is to run \"pip install fuzzingbook\" on the command line."
   ]
  },
  {
   "cell_type": "code",
   "execution_count": 1,
   "metadata": {},
   "outputs": [
    {
     "name": "stdout",
     "output_type": "stream",
     "text": [
      "Requirement already satisfied: fuzzingbook in /Users/peterc/anaconda3/lib/python3.6/site-packages (0.8.0)\n",
      "\u001b[31mdistributed 1.21.8 requires msgpack, which is not installed.\u001b[0m\n",
      "\u001b[33mYou are using pip version 10.0.1, however version 19.2.3 is available.\n",
      "You should consider upgrading via the 'pip install --upgrade pip' command.\u001b[0m\n"
     ]
    }
   ],
   "source": [
    "import sys\n",
    "!{sys.executable} -m pip install fuzzingbook"
   ]
  },
  {
   "cell_type": "markdown",
   "metadata": {},
   "source": [
    "# A Simple Random Fuzzer"
   ]
  },
  {
   "cell_type": "markdown",
   "metadata": {},
   "source": [
    "Now, let's use the library provided in the fuzzingbook to get a very simple fuzzer: a random fuzzer."
   ]
  },
  {
   "cell_type": "code",
   "execution_count": 2,
   "metadata": {},
   "outputs": [
    {
     "data": {
      "text/plain": [
       "'!7#%\"*#0=)$;%6*;>638:*>80\"=</>(/*:-(2<4 !:5*6856&?\"\"11<7+%<%7,4.8,*+&,,$,.\"5%<%76< -5'"
      ]
     },
     "execution_count": 2,
     "metadata": {},
     "output_type": "execute_result"
    }
   ],
   "source": [
    "from fuzzingbook.Fuzzer import RandomFuzzer\n",
    "random_fuzzer = RandomFuzzer()\n",
    "random_fuzzer.fuzz()"
   ]
  },
  {
   "cell_type": "markdown",
   "metadata": {},
   "source": [
    "The output is a randomly generated string, which can be used as an input for other programs."
   ]
  },
  {
   "cell_type": "markdown",
   "metadata": {},
   "source": [
    "We can also look at the implementation of RandomFuzzer:"
   ]
  },
  {
   "cell_type": "code",
   "execution_count": 3,
   "metadata": {},
   "outputs": [
    {
     "name": "stdout",
     "output_type": "stream",
     "text": [
      "\u001b[34mclass\u001b[39;49;00m RandomFuzzer(Fuzzer):\n",
      "    def __init__(self, min_length=\u001b[34m10\u001b[39;49;00m, max_length=\u001b[34m100\u001b[39;49;00m,\n",
      "                 char_start=\u001b[34m32\u001b[39;49;00m, char_range=\u001b[34m32\u001b[39;49;00m):\n",
      "        \u001b[33m\"\"\u001b[39;49;00m\u001b[33m\"Produce strings of `min_length` to `max_length` characters\u001b[39;49;00m\n",
      "\u001b[33m           in the range [`char_start`, `char_start` + `char_range`]\"\u001b[39;49;00m\u001b[33m\"\"\u001b[39;49;00m\n",
      "        self.min_length = min_length\n",
      "        self.max_length = max_length\n",
      "        self.char_start = char_start\n",
      "        self.char_range = char_range\n",
      "\n",
      "    def fuzz(self):\n",
      "        string_length = random.randrange(self.min_length, self.max_length + \u001b[34m1\u001b[39;49;00m)\n",
      "        out = \u001b[33m\"\"\u001b[39;49;00m\n",
      "        \u001b[34mfor\u001b[39;49;00m i \u001b[34min\u001b[39;49;00m range(\u001b[34m0\u001b[39;49;00m, string_length):\n",
      "            out += chr(random.randrange(self.char_start,\n",
      "                                        self.char_start + self.char_range))\n",
      "        \u001b[34mreturn\u001b[39;49;00m out\n"
     ]
    }
   ],
   "source": [
    "import inspect\n",
    "from fuzzingbook.fuzzingbook_utils import print_content\n",
    "\n",
    "print_content(inspect.getsource(RandomFuzzer))"
   ]
  },
  {
   "cell_type": "markdown",
   "metadata": {},
   "source": [
    "The fuzzer simply generates a random string with a default length between 10 and 100.\n",
    "\n",
    "## Example: Finding Buffer Overflow\n",
    "Let's see how this fuzzer can be useful through a simple simulated example. In C, we often need to specify the length of the characters that we need to read. If the actual length is longer than the specified length, it can cause buffer overflow. (The example is taken from the [fuzzing book](https://www.fuzzingbook.org))\n",
    "\n",
    "```c\n",
    "char weekday[10]; // 9 characters + trailing '\\0' terminator\n",
    "strcpy (weekday, input);\n",
    "```\n",
    "\n",
    "We can simulate this problem in Python as: "
   ]
  },
  {
   "cell_type": "code",
   "execution_count": 4,
   "metadata": {},
   "outputs": [],
   "source": [
    "def crash_if_too_long(s):\n",
    "    if len(s) > 9: # 9 characters\n",
    "        raise ValueError"
   ]
  },
  {
   "cell_type": "markdown",
   "metadata": {},
   "source": [
    "Now, let's generate tests for this program."
   ]
  },
  {
   "cell_type": "code",
   "execution_count": 5,
   "metadata": {},
   "outputs": [
    {
     "name": "stdout",
     "output_type": "stream",
     "text": [
      "trial: 0 with input:  7:,>((/$$-/->.;.=;(.%!:50#7*8=$&&=$9!%6(4=&69':'<3+0-3.24#7=!&60)2/+\";+<7+1<2!4$>92+$1<(3%&5''>#\n"
     ]
    },
    {
     "name": "stderr",
     "output_type": "stream",
     "text": [
      "Traceback (most recent call last):\n",
      "  File \"<ipython-input-5-9e514079d094>\", line 8, in <module>\n",
      "    crash_if_too_long(inp)\n",
      "  File \"<ipython-input-4-82d8cf6c68ac>\", line 3, in crash_if_too_long\n",
      "    raise ValueError\n",
      "ValueError\n"
     ]
    }
   ],
   "source": [
    "import traceback # to get the stack trace\n",
    "\n",
    "trials = 100\n",
    "for i in range(0, trials):\n",
    "    inp = random_fuzzer.fuzz()\n",
    "    print (\"trial: %s with input: %s\" % (i, inp))\n",
    "    try: \n",
    "        crash_if_too_long(inp)\n",
    "    except ValueError:\n",
    "        traceback.print_exc()\n",
    "        break"
   ]
  },
  {
   "cell_type": "markdown",
   "metadata": {},
   "source": [
    "As we can see, our very simple fuzzer is able to trigger the (simulated) bug. These kinds of bug may lead to security issues. Many companes nowadays use fuzzing to help them detect bugs.\n",
    "\n",
    "For example, Google uses fuzzing and open sourced their fuzzing tool: [OSS Fuzz](https://github.com/google/oss-fuzz). As mentioned by Google, so far, OSS Fuzz has detected more than 14,000 bugs in 200 open source systems.\n",
    "\n",
    "Other popular fuzzing tools include: [AFL](https://github.com/google/AFL), [LibFuzzer](https://llvm.org/docs/LibFuzzer.html), and many more. In particular, AFL is one of the most popular and most extended fuzzer. Many research papers are built upon AFL. "
   ]
  },
  {
   "cell_type": "markdown",
   "metadata": {},
   "source": [
    "## Testing a Simple URL Parser"
   ]
  },
  {
   "cell_type": "markdown",
   "metadata": {},
   "source": [
    "Let's use our simple fuzzer to test a simple URL parser in Python."
   ]
  },
  {
   "cell_type": "code",
   "execution_count": 6,
   "metadata": {},
   "outputs": [],
   "source": [
    "from urllib.parse import urlparse\n",
    "\n",
    "def http_program(url):\n",
    "    supported_schemes = [\"http\", \"https\"]\n",
    "    result = urlparse(url)\n",
    "    if result.scheme not in supported_schemes:\n",
    "        raise ValueError(\"Scheme must be one of \" + repr(supported_schemes))\n",
    "    if result.netloc == '':\n",
    "        raise ValueError(\"Host must be non-empty\")\n",
    "\n",
    "    # Do something with the URL\n",
    "    return True  "
   ]
  },
  {
   "cell_type": "markdown",
   "metadata": {},
   "source": [
    "For now, we assume that our goal is to test if we can generate both valid and invliad inputs for the program. We can use the following code:"
   ]
  },
  {
   "cell_type": "code",
   "execution_count": 7,
   "metadata": {},
   "outputs": [],
   "source": [
    "def is_valid_url(url):\n",
    "    try:\n",
    "        result = http_program(url)\n",
    "        return True\n",
    "    except ValueError:\n",
    "        return False"
   ]
  },
  {
   "cell_type": "markdown",
   "metadata": {},
   "source": [
    "Then, we use our random fuzzer to test the program. "
   ]
  },
  {
   "cell_type": "code",
   "execution_count": 8,
   "metadata": {},
   "outputs": [
    {
     "name": "stdout",
     "output_type": "stream",
     "text": [
      "input is 8($37\"0*80!#';1/ -6%=:80;!'% 3&$;*27%%'8&+$)0(?\n",
      "input is ,-)>3=( #383'7)#(.496(<=+3717(-0((1/8)2!>?#1-3.,6,*+&$*88(%7+?,%''94?79 &,1%4+3&&;),9 !:/?*> ,4+!7#=\n",
      "input is ($,)$)64>*$,*#$6;4$2*1<<,22)+6->4;'&(95(,23/\"=$\n",
      "input is 0;/,-',8-+!28\"%+(;&#9;3)),?2%-#>=*6=?=.#?9> 1*;+\"'&6: 499!?#3\n",
      "input is &5;?-'**(8:>)/< \n",
      "input is 00&<4$?<:#*?!(=-2&9-4?'4)1$(4<04-(>!9'%/0<),;;.=&*/(\")\"#:.<-&*5;2#<$16/\n",
      "input is ,%/4/>!1->#&,4.:1* \"&;.:)1!$*8/(*?#\n",
      "input is #3!'*;\"/<\";;*!6\"*-2,$994,%*:\"$25!2=!+!2#''6/3'4!6%7056'??2#7;75>27'1\n",
      "input is #-4.?*<?6&\" !3'7-5>18%55*,55&8>\"86,?\"/7!1%5-**&-$&)$\n",
      "input is 1;\"21('8\"(%$4,(\"(&!67%89$!.?(*(96(28$=6029:<:$(6 !-+2622(&4'7\n",
      "input is 9&,=4')3#..\n",
      "input is 3-<49<%&*3&373'/(-*;-/#*;9 !90?\n",
      "input is ):50*+-> <##/3)5,&--<+-9,%(8&5*2);) )&1!?(39'0 3\"6\n",
      "input is -?>0;1)/%\"(\n",
      "input is ,>45*$73=,\"%5=+\n",
      "input is 74!97175\"0(/$+,7*8$-\n",
      "input is '=:4!>3/$,1:# +$8#(>$150%,<6*7!&':<')7;>=>=?8=*190 &5/.)4/'++>#(,&#?+\n",
      "input is ** 9;>;010!\" 5=>&8>=677 2.\n",
      "input is )*>8*1\"677>% *$!,70%' -14<,)#2=(7 ? 6+!).(\n",
      "input is ';0:65%!/*;0(4 #-'0%:8*81<1-///--= ;6:/&<-4?4#)-5$7/;+\"=-$: 513/?*+7;.'+\n"
     ]
    },
    {
     "data": {
      "text/plain": [
       "0.0"
      ]
     },
     "execution_count": 8,
     "metadata": {},
     "output_type": "execute_result"
    }
   ],
   "source": [
    "random_fuzzer = RandomFuzzer()\n",
    "\n",
    "valid_inputs = set()\n",
    "trials = 20\n",
    "\n",
    "for i in range(trials):\n",
    "    inp = random_fuzzer.fuzz()\n",
    "    print (\"input is \" + inp)\n",
    "    if is_valid_url(inp):\n",
    "        valid_inputs.add(inp) \n",
    "\n",
    "len(valid_inputs) / trials"
   ]
  },
  {
   "cell_type": "markdown",
   "metadata": {},
   "source": [
    "As expected, we cannot generate any valid input to test the program. How can we generate smarter inputs?"
   ]
  },
  {
   "cell_type": "markdown",
   "metadata": {},
   "source": [
    "# Mutation Fuzzer"
   ]
  },
  {
   "cell_type": "markdown",
   "metadata": {},
   "source": [
    "Randomly generating inputs may not sound so smart. For different programs, we might want a more customized way to automatically generate inputs. \n",
    "\n",
    "For example, if we want to test a calculator program, we might not want to generate so many textual inputs. These textual inputs may only increase the test generation time with no additional code coverage (more on this later). "
   ]
  },
  {
   "cell_type": "markdown",
   "metadata": {},
   "source": [
    "Now, let's look at some simple mutation operators."
   ]
  },
  {
   "cell_type": "code",
   "execution_count": 9,
   "metadata": {},
   "outputs": [
    {
     "data": {
      "text/plain": [
       "'This i an example'"
      ]
     },
     "execution_count": 9,
     "metadata": {},
     "output_type": "execute_result"
    }
   ],
   "source": [
    "import random\n",
    "\n",
    "# the code mutates the input by randomly deleting a character\n",
    "def delete_random_char(s):\n",
    "    if s == \"\":\n",
    "        return s\n",
    "    pos = random.randint(0, len(s) - 1)\n",
    "    return s[:pos] + s[pos+1:]\n",
    "\n",
    "inp = \"This is an example\"\n",
    "delete_random_char(inp)"
   ]
  },
  {
   "cell_type": "code",
   "execution_count": 10,
   "metadata": {},
   "outputs": [
    {
     "data": {
      "text/plain": [
       "'Thiqs is an example'"
      ]
     },
     "execution_count": 10,
     "metadata": {},
     "output_type": "execute_result"
    }
   ],
   "source": [
    "# the code mutates the input by randomly adding a character\n",
    "def add_random_char(s):\n",
    "    pos = random.randint(0, len(s) - 1)\n",
    "    random_character = chr(random.randrange(32, 127))\n",
    "    return s[:pos] + random_character + s[pos:]\n",
    "\n",
    "inp = \"This is an example\"\n",
    "add_random_char(inp)"
   ]
  },
  {
   "cell_type": "code",
   "execution_count": 11,
   "metadata": {},
   "outputs": [
    {
     "data": {
      "text/plain": [
       "'Txis is an example'"
      ]
     },
     "execution_count": 11,
     "metadata": {},
     "output_type": "execute_result"
    }
   ],
   "source": [
    "# the code mutates the input by randomly flipping a character\n",
    "def flip_random_character(s):\n",
    "    \"\"\"Returns s with a random bit flipped in a random position\"\"\"\n",
    "    if s == \"\":\n",
    "        return s\n",
    "\n",
    "    pos = random.randint(0, len(s) - 1)\n",
    "    c = s[pos]\n",
    "    bit = 1 << random.randint(0, 6)\n",
    "    new_c = chr(ord(c) ^ bit)\n",
    "    # print(\"Flipping\", bit, \"in\", repr(c) + \", giving\", repr(new_c))\n",
    "    return s[:pos] + new_c + s[pos + 1:]\n",
    "\n",
    "inp = \"This is an example\"\n",
    "flip_random_character(inp)"
   ]
  },
  {
   "cell_type": "markdown",
   "metadata": {},
   "source": [
    "We can also apply multiple mutators to an input:"
   ]
  },
  {
   "cell_type": "code",
   "execution_count": 12,
   "metadata": {},
   "outputs": [
    {
     "name": "stdout",
     "output_type": "stream",
     "text": [
      "his7 szn e&xa}plE\n"
     ]
    }
   ],
   "source": [
    "inp = \"This is an example\"\n",
    "\n",
    "mutators = [delete_random_char, add_random_char, flip_random_character]\n",
    "\n",
    "for i in range(0, 10):\n",
    "    mutator = mutators[random.randint(0, 2)]\n",
    "    inp = mutator(inp)\n",
    "    \n",
    "# after 10 random mutations\n",
    "print (inp)"
   ]
  },
  {
   "cell_type": "markdown",
   "metadata": {},
   "source": [
    "We can also use similar code to fuzz URLs for testing web servers or URL parsers (remember the example that we discussed in the previous section). \n",
    "\n",
    "Now, instead of using the code above, we can call the API from the FuzzingBook (the behaviour is the same):"
   ]
  },
  {
   "cell_type": "code",
   "execution_count": 13,
   "metadata": {},
   "outputs": [
    {
     "data": {
      "text/plain": [
       "['httpqz//ww.bojordia.ca/',\n",
       " 'yHttps//www.koncOrdii\\x0ec/',\n",
       " 'httpS://www_.concordia.c/',\n",
       " 'xttxs://wwnncopdi.chi/',\n",
       " 'hBtt`s://www.cknorDi7a.ca/',\n",
       " 'https://wwwonc!orheia.ca/',\n",
       " 'https://w.concrdica/',\n",
       " 'https:/wwg.concordia.ca/',\n",
       " 'htHps://w*Ow.>cmnckrdima.ca/',\n",
       " 'h-tps:x/wwwf}.concordia1.ca/Q']"
      ]
     },
     "execution_count": 13,
     "metadata": {},
     "output_type": "execute_result"
    }
   ],
   "source": [
    "from fuzzingbook.MutationFuzzer import MutationFuzzer\n",
    "import random\n",
    "seed = \"https://www.concordia.ca/\"\n",
    "mutation_fuzzer = MutationFuzzer(seed=[\"https://www.concordia.ca/\"])\n",
    "mutation_fuzzer.fuzz()\n",
    "\n",
    "[mutation_fuzzer.fuzz() for i in range(10)]\n"
   ]
  },
  {
   "cell_type": "markdown",
   "metadata": {},
   "source": [
    "These automatically generated inputs look better than those randomly generated ones. We can use inputs to test the URL parser program for unexpected behvaiour (e.g., exception handling or crashes) or even security issues.\n",
    "\n",
    "Note that for different problems, you might need to come up with different mutators. For example, if you are testing a calculator program, mutators for strings may not be very effective. "
   ]
  },
  {
   "cell_type": "markdown",
   "metadata": {},
   "source": [
    "Let's use our new fuzzer to test our URL parser."
   ]
  },
  {
   "cell_type": "code",
   "execution_count": 14,
   "metadata": {},
   "outputs": [
    {
     "name": "stdout",
     "output_type": "stream",
     "text": [
      "input http://www.concordia.ca\n",
      "input ahttp:/www*concordiA.ba\n",
      "input h|ttp://Www.cnco{rdiaca\n",
      "input http://ww.concnrdia\u000ea\n",
      "input ht4p://ww2w.ce.cordiaa\n",
      "input http:?uw.co*cord.ca\n",
      "input http:-/w.concOrdiacat\n",
      "input htt://www.concrdi!.ca\n",
      "input hwtp://zwww.concodia.ca\n",
      "input  hlttp://sBww.conria.c\n",
      "input (tt://ww.concordiacat\n",
      "input h`p://www.Qconcordia.Fca\n",
      "input hptp:P//w2wSu`.onc/rdia.ca\n",
      "input http:/Y+/www.cn7Xncordad`.a\n",
      "input http://w{ww.concorxdiaS.ca\n",
      "input htTp:\u000f/ww.concordia.ca\n",
      "input http:,//www.c,oncordia.ca\n",
      "input http:l/wgw.cEncoria.ca\n",
      "input httpF://ww>co5ncordia.ca\n",
      "input ?htux://www>Concord6i`.ca\n"
     ]
    },
    {
     "data": {
      "text/plain": [
       "0.15"
      ]
     },
     "execution_count": 14,
     "metadata": {},
     "output_type": "execute_result"
    }
   ],
   "source": [
    "seed = \"http://www.concordia.ca\"\n",
    "mutation_fuzzer = MutationFuzzer([seed])\n",
    "\n",
    "valid_inputs = set()\n",
    "trials = 20\n",
    "\n",
    "for i in range(trials):\n",
    "    inp = mutation_fuzzer.fuzz()\n",
    "    print (\"input \" + inp)\n",
    "    if is_valid_url(inp):\n",
    "        valid_inputs.add(inp) \n",
    "\n",
    "len(valid_inputs) / trials"
   ]
  },
  {
   "cell_type": "markdown",
   "metadata": {},
   "source": [
    "This is an improvement. We can now generate valid inputs to test the URL pareser! \n",
    "\n",
    "But is there any way that we can do better?"
   ]
  },
  {
   "cell_type": "markdown",
   "metadata": {},
   "source": [
    "# Using Coverage to Guide Fuzzing"
   ]
  },
  {
   "cell_type": "markdown",
   "metadata": {},
   "source": [
    "What we have discussed so far belongs to the family of blackbox fuzzing. Namely, we do not have any information of the source code, nor how the code is executed. We can improve our fuzzer by integrating the coverage information. "
   ]
  },
  {
   "cell_type": "markdown",
   "metadata": {},
   "source": [
    "We can easily get coverage information in Python. We can setup a trace function as follows (more information can be found [here](https://pymotw.com/3/sys/tracing.html)):"
   ]
  },
  {
   "cell_type": "code",
   "execution_count": 15,
   "metadata": {},
   "outputs": [],
   "source": [
    "# record which line got executed\n",
    "coverage = []\n",
    "\n",
    "def traceit(frame, event, arg):\n",
    "    if event == \"line\":\n",
    "        global coverage\n",
    "        #func_filename = frame.f_code.co_filename\n",
    "        function_name = frame.f_code.co_name\n",
    "        lineno = frame.f_lineno\n",
    "        #coverage.append((func_filename, function_name, lineno))\n",
    "        coverage.append((function_name, lineno))\n",
    "\n",
    "    return traceit"
   ]
  },
  {
   "cell_type": "code",
   "execution_count": 16,
   "metadata": {},
   "outputs": [
    {
     "data": {
      "text/plain": [
       "[('is_valid_url', 2),\n",
       " ('is_valid_url', 3),\n",
       " ('http_program', 4),\n",
       " ('http_program', 5),\n",
       " ('urlparse', 367),\n",
       " ('_coerce_args', 115),\n",
       " ('_coerce_args', 116),\n",
       " ('_coerce_args', 119),\n",
       " ('_coerce_args', 116),\n",
       " ('_coerce_args', 121),\n",
       " ('_coerce_args', 122),\n",
       " ('urlparse', 368),\n",
       " ('urlsplit', 400),\n",
       " ('_coerce_args', 115),\n",
       " ('_coerce_args', 116),\n",
       " ('_coerce_args', 119),\n",
       " ('_coerce_args', 116),\n",
       " ('_coerce_args', 121),\n",
       " ('_coerce_args', 122),\n",
       " ('urlsplit', 401),\n",
       " ('urlsplit', 402),\n",
       " ('urlsplit', 403),\n",
       " ('urlsplit', 404),\n",
       " ('urlsplit', 406),\n",
       " ('urlsplit', 408),\n",
       " ('urlsplit', 409),\n",
       " ('urlsplit', 410),\n",
       " ('urlsplit', 411),\n",
       " ('urlsplit', 412),\n",
       " ('urlsplit', 413),\n",
       " ('urlsplit', 414),\n",
       " ('urlsplit', 415),\n",
       " ('_splitnetloc', 387),\n",
       " ('_splitnetloc', 388),\n",
       " ('_splitnetloc', 389),\n",
       " ('_splitnetloc', 390),\n",
       " ('_splitnetloc', 388),\n",
       " ('_splitnetloc', 389),\n",
       " ('_splitnetloc', 390),\n",
       " ('_splitnetloc', 388),\n",
       " ('_splitnetloc', 389),\n",
       " ('_splitnetloc', 390),\n",
       " ('_splitnetloc', 388),\n",
       " ('_splitnetloc', 392),\n",
       " ('urlsplit', 416),\n",
       " ('urlsplit', 417),\n",
       " ('urlsplit', 419),\n",
       " ('urlsplit', 421),\n",
       " ('urlsplit', 423),\n",
       " ('__new__', 14),\n",
       " ('urlsplit', 424),\n",
       " ('urlsplit', 425),\n",
       " ('_noop', 99),\n",
       " ('urlparse', 369),\n",
       " ('urlparse', 370),\n",
       " ('urlparse', 373),\n",
       " ('urlparse', 374),\n",
       " ('__new__', 14),\n",
       " ('urlparse', 375),\n",
       " ('_noop', 99),\n",
       " ('http_program', 6),\n",
       " ('http_program', 8),\n",
       " ('http_program', 12),\n",
       " ('is_valid_url', 4)]"
      ]
     },
     "execution_count": 16,
     "metadata": {},
     "output_type": "execute_result"
    }
   ],
   "source": [
    "import sys\n",
    "\n",
    "def execute_and_trace(fun, inp):\n",
    "    global coverage\n",
    "    coverage = []\n",
    "    sys.settrace(traceit)  # Turn on\n",
    "    fun(inp)\n",
    "    sys.settrace(None)    # Turn off\n",
    "\n",
    "inp = \"http://www.concordia.ca\"\n",
    "execute_and_trace(is_valid_url, inp)\n",
    "[cov for cov in coverage]"
   ]
  },
  {
   "cell_type": "markdown",
   "metadata": {},
   "source": [
    "We can also use the *Coverage* class from the fuzzing book to achieve the same goal. The code in the fuzzing book simply abstracts the above-mentioned code. "
   ]
  },
  {
   "cell_type": "code",
   "execution_count": 17,
   "metadata": {},
   "outputs": [
    {
     "data": {
      "text/plain": [
       "[('is_valid_url', 3),\n",
       " ('urlparse', 370),\n",
       " ('urlsplit', 402),\n",
       " ('_coerce_args', 122),\n",
       " ('http_program', 6),\n",
       " ('urlparse', 374),\n",
       " ('is_valid_url', 2),\n",
       " ('_coerce_args', 115),\n",
       " ('_coerce_args', 119),\n",
       " ('urlsplit', 403),\n",
       " ('urlparse', 375),\n",
       " ('http_program', 12),\n",
       " ('__new__', 14),\n",
       " ('http_program', 5),\n",
       " ('urlparse', 368),\n",
       " ('urlsplit', 404),\n",
       " ('_coerce_args', 116),\n",
       " ('urlsplit', 400),\n",
       " ('http_program', 4),\n",
       " ('urlparse', 369),\n",
       " ('urlsplit', 405),\n",
       " ('http_program', 8),\n",
       " ('urlparse', 367),\n",
       " ('is_valid_url', 4),\n",
       " ('urlparse', 373),\n",
       " ('__exit__', 237),\n",
       " ('urlsplit', 401),\n",
       " ('_coerce_args', 121),\n",
       " ('_noop', 99)]"
      ]
     },
     "execution_count": 17,
     "metadata": {},
     "output_type": "execute_result"
    }
   ],
   "source": [
    "from fuzzingbook.Coverage import Coverage\n",
    "\n",
    "inp = \"http://www.concordia.ca\"\n",
    "\n",
    "with Coverage() as cov:\n",
    "    is_valid_url(inp)\n",
    "    \n",
    "[c for c in cov.coverage()]"
   ]
  },
  {
   "cell_type": "markdown",
   "metadata": {},
   "source": [
    "How can the coverage information help us during fuzzing? Let's look at the example below. "
   ]
  },
  {
   "cell_type": "code",
   "execution_count": 18,
   "metadata": {},
   "outputs": [
    {
     "data": {
      "text/plain": [
       "{('urlsplit', 405)}"
      ]
     },
     "execution_count": 18,
     "metadata": {},
     "output_type": "execute_result"
    }
   ],
   "source": [
    "with Coverage() as first_cov:\n",
    "    is_valid_url(\"http://www.concordia.ca\")\n",
    "with Coverage() as second_cov:\n",
    "    # the URL of searching \"google\" on Google\n",
    "    is_valid_url(\"https://www.google.com/search?q=google&rlz=1C5CHFA_enCA758CA758&oq=google&aqs=chrome..69i57j69i60l3j69i65j69i60.4544j0j7&sourceid=chrome&ie=UTF-8\")\n",
    "    \n",
    "first_cov.coverage() - second_cov.coverage()"
   ]
  },
  {
   "cell_type": "markdown",
   "metadata": {},
   "source": [
    "The coverage information for different inputs may be different! Let's see the relationship between input and coverage. "
   ]
  },
  {
   "cell_type": "code",
   "execution_count": 19,
   "metadata": {},
   "outputs": [],
   "source": [
    "def calculate_cumulative_coverage(input_population, function):\n",
    "    cumulative_coverage = []\n",
    "    all_coverage = set()\n",
    "    \n",
    "    for inp in input_population:\n",
    "        with Coverage() as cov:\n",
    "            try:\n",
    "                function(inp)\n",
    "            except:\n",
    "                # we ignore exceptions for the purpose of this code, but some exceptions may be interesting\n",
    "                pass\n",
    "        # set union\n",
    "        all_coverage |= cov.coverage()\n",
    "        cumulative_coverage.append(len(all_coverage))\n",
    "    return cumulative_coverage"
   ]
  },
  {
   "cell_type": "markdown",
   "metadata": {},
   "source": [
    "The above code measures the cumulative coverage for a set of inputs (i.e., input_population). Let's test this code by doing some simple fuzzing. "
   ]
  },
  {
   "cell_type": "code",
   "execution_count": 20,
   "metadata": {},
   "outputs": [
    {
     "data": {
      "text/plain": [
       "[29,\n",
       " 45,\n",
       " 58,\n",
       " 66,\n",
       " 66,\n",
       " 67,\n",
       " 70,\n",
       " 70,\n",
       " 75,\n",
       " 75,\n",
       " 75,\n",
       " 75,\n",
       " 75,\n",
       " 75,\n",
       " 75,\n",
       " 75,\n",
       " 75,\n",
       " 78,\n",
       " 78,\n",
       " 78]"
      ]
     },
     "execution_count": 20,
     "metadata": {},
     "output_type": "execute_result"
    }
   ],
   "source": [
    "trials = 20\n",
    "fuzzer = MutationFuzzer(seed = [\"http://www.concordia.ca\"])\n",
    "\n",
    "population = []\n",
    "for i in range(0, trials):\n",
    "    population.append(fuzzer.fuzz())\n",
    "\n",
    "cumulative_coverage = calculate_cumulative_coverage(population, is_valid_url)\n",
    "cumulative_coverage"
   ]
  },
  {
   "cell_type": "markdown",
   "metadata": {},
   "source": [
    "We can also visualize the cumulative coverage."
   ]
  },
  {
   "cell_type": "code",
   "execution_count": 21,
   "metadata": {},
   "outputs": [
    {
     "data": {
      "text/plain": [
       "Text(0,0.5,'lines covered')"
      ]
     },
     "execution_count": 21,
     "metadata": {},
     "output_type": "execute_result"
    },
    {
     "data": {
      "image/png": "[encoded data removed]",
      "text/plain": [
       "<Figure size 432x288 with 1 Axes>"
      ]
     },
     "metadata": {},
     "output_type": "display_data"
    }
   ],
   "source": [
    "import matplotlib.pyplot as plt\n",
    "%matplotlib inline\n",
    "\n",
    "plt.plot(cumulative_coverage)\n",
    "plt.title('Coverage of is_valid_url() with random inputs')\n",
    "plt.xlabel('# of inputs')\n",
    "plt.ylabel('lines covered')"
   ]
  },
  {
   "cell_type": "code",
   "execution_count": null,
   "metadata": {},
   "outputs": [],
   "source": []
  },
  {
   "cell_type": "code",
   "execution_count": null,
   "metadata": {},
   "outputs": [],
   "source": []
  }
 ],
 "metadata": {
  "kernelspec": {
   "display_name": "Python 3",
   "language": "python",
   "name": "python3"
  },
  "language_info": {
   "codemirror_mode": {
    "name": "ipython",
    "version": 3
   },
   "file_extension": ".py",
   "mimetype": "text/x-python",
   "name": "python",
   "nbconvert_exporter": "python",
   "pygments_lexer": "ipython3",
   "version": "3.6.5"
  }
 },
 "nbformat": 4,
 "nbformat_minor": 2
}
