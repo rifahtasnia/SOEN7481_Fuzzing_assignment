{
  "nbformat": 4,
  "nbformat_minor": 0,
  "metadata": {
    "colab": {
      "provenance": []
    },
    "kernelspec": {
      "name": "python3",
      "display_name": "Python 3"
    },
    "language_info": {
      "name": "python"
    }
  },
  "cells": [
    {
      "cell_type": "code",
      "source": [
        "!pip install coverage"
      ],
      "metadata": {
        "colab": {
          "base_uri": "https://localhost:8080/"
        },
        "id": "m9MXtNHBY4ga",
        "outputId": "28c4d6a8-5b89-4681-94b6-63708796e639"
      },
      "execution_count": null,
      "outputs": [
        {
          "output_type": "stream",
          "name": "stdout",
          "text": [
            "Collecting coverage\n",
            "  Downloading coverage-7.6.12-cp311-cp311-manylinux_2_5_x86_64.manylinux1_x86_64.manylinux_2_17_x86_64.manylinux2014_x86_64.whl.metadata (8.5 kB)\n",
            "Downloading coverage-7.6.12-cp311-cp311-manylinux_2_5_x86_64.manylinux1_x86_64.manylinux_2_17_x86_64.manylinux2014_x86_64.whl (241 kB)\n",
            "\u001b[?25l   \u001b[90m━━━━━━━━━━━━━━━━━━━━━━━━━━━━━━━━━━━━━━━━\u001b[0m \u001b[32m0.0/241.0 kB\u001b[0m \u001b[31m?\u001b[0m eta \u001b[36m-:--:--\u001b[0m\r\u001b[2K   \u001b[91m━━━━━━━━━━━━━━━━━━━━━━━━━━━━━━━━━━━━━━━\u001b[0m\u001b[90m╺\u001b[0m \u001b[32m235.5/241.0 kB\u001b[0m \u001b[31m8.9 MB/s\u001b[0m eta \u001b[36m0:00:01\u001b[0m\r\u001b[2K   \u001b[90m━━━━━━━━━━━━━━━━━━━━━━━━━━━━━━━━━━━━━━━━\u001b[0m \u001b[32m241.0/241.0 kB\u001b[0m \u001b[31m5.0 MB/s\u001b[0m eta \u001b[36m0:00:00\u001b[0m\n",
            "\u001b[?25hInstalling collected packages: coverage\n",
            "Successfully installed coverage-7.6.12\n"
          ]
        }
      ]
    },
    {
      "cell_type": "markdown",
      "source": [
        "#Test Fuzzer"
      ],
      "metadata": {
        "id": "OyLnw8ICMtOh"
      }
    },
    {
      "cell_type": "code",
      "execution_count": null,
      "metadata": {
        "id": "P37QU6SOYoyo"
      },
      "outputs": [],
      "source": [
        "import random\n",
        "import string\n",
        "import coverage\n",
        "from collections import defaultdict\n",
        "import tempfile\n",
        "import os\n"
      ]
    },
    {
      "cell_type": "code",
      "source": [
        "import os\n",
        "import tempfile\n",
        "\n",
        "coverage_data_path = os.path.join(tempfile.gettempdir(), \".coverage\")\n",
        "if os.path.exists(coverage_data_path):\n",
        "    os.remove(coverage_data_path)  # Remove old data\n"
      ],
      "metadata": {
        "id": "lVm5hdxkfXyU"
      },
      "execution_count": null,
      "outputs": []
    },
    {
      "cell_type": "code",
      "source": [
        "from collections import defaultdict\n",
        "\n",
        "class CoverageGuidedFuzzer:\n",
        "    def __init__(self, target_function, seed_inputs, max_iterations=100):\n",
        "        self.target_function = target_function\n",
        "        self.seed_population = seed_inputs\n",
        "        self.max_iterations = max_iterations\n",
        "        self.coverage_data = defaultdict(int)\n",
        "\n",
        "    def mutate_input(self, input_str):\n",
        "        \"\"\" Improve mutation strategy to explore more paths. \"\"\"\n",
        "        mutation_type = random.choice([\"flip\", \"replace\", \"append\", \"delete\", \"insert\", \"reverse\"])\n",
        "        input_list = list(input_str)\n",
        "\n",
        "        if mutation_type == \"flip\" and input_list:\n",
        "            index = random.randint(0, len(input_list) - 1)\n",
        "            input_list[index] = chr(random.randint(32, 126))\n",
        "        elif mutation_type == \"replace\" and input_list:\n",
        "            index = random.randint(0, len(input_list) - 1)\n",
        "            input_list[index] = random.choice(string.ascii_letters)\n",
        "        elif mutation_type == \"append\":\n",
        "            input_list.append(random.choice(string.ascii_letters))\n",
        "        elif mutation_type == \"delete\" and input_list:\n",
        "            index = random.randint(0, len(input_list) - 1)\n",
        "            del input_list[index]\n",
        "        elif mutation_type == \"insert\":\n",
        "            index = random.randint(0, len(input_list))\n",
        "            input_list.insert(index, random.choice(string.ascii_letters))\n",
        "        elif mutation_type == \"reverse\":\n",
        "            input_list.reverse()\n",
        "\n",
        "        return \"\".join(input_list)\n",
        "\n",
        "    def measure_coverage(self, input_str):\n",
        "        \"\"\" Run the program using a subprocess to avoid Jupyter coverage issues. \"\"\"\n",
        "        script_content = f\"\"\"\n",
        "import coverage\n",
        "cov = coverage.Coverage(data_file=\"{tempfile.gettempdir()}/.coverage\")\n",
        "cov.start()\n",
        "\n",
        "def target_function(input_str):\n",
        "    if \"bug\" in input_str:\n",
        "        raise ValueError(\"Found a bug!\")\n",
        "    elif \"error\" in input_str:\n",
        "        print(\"Potential issue detected.\")\n",
        "    elif \"fail\" in input_str:\n",
        "        print(\"System failure detected!\")\n",
        "    elif \"1234\" in input_str:\n",
        "        print(\"Processing sensitive input...\")\n",
        "    else:\n",
        "        print(f\"Processing {{input_str}}\")\n",
        "\n",
        "target_function(\"{input_str}\")\n",
        "\n",
        "cov.stop()\n",
        "cov.save()\n",
        "        \"\"\"\n",
        "\n",
        "        script_path = os.path.join(tempfile.gettempdir(), \"temp_script.py\")\n",
        "        with open(script_path, \"w\") as f:\n",
        "            f.write(script_content)\n",
        "\n",
        "        # Run the script with coverage\n",
        "        subprocess.run([\"python3\", script_path], capture_output=True)\n",
        "\n",
        "        # Extract coverage info\n",
        "        cov = coverage.Coverage(data_file=f\"{tempfile.gettempdir()}/.coverage\")\n",
        "        cov.load()\n",
        "        covered_lines = cov.analysis(script_path)[1]\n",
        "\n",
        "        print(f\"[DEBUG] Covered lines: {covered_lines}\")\n",
        "        return len(covered_lines)\n",
        "\n",
        "    def run(self):\n",
        "        \"\"\" Run the fuzzing process with coverage tracking output \"\"\"\n",
        "        seen_coverage = set()\n",
        "\n",
        "        for i in range(self.max_iterations):\n",
        "            seed = random.choices(self.seed_population, weights=[self.coverage_data[s] + 1 for s in self.seed_population], k=1)[0]\n",
        "            mutated_input = self.mutate_input(seed)\n",
        "            new_coverage = self.measure_coverage(mutated_input)\n",
        "\n",
        "            if new_coverage not in seen_coverage:\n",
        "                seen_coverage.add(new_coverage)\n",
        "                self.seed_population.append(mutated_input)\n",
        "                self.coverage_data[mutated_input] = new_coverage\n",
        "                print(f\"[Iteration {i+1}] New input '{mutated_input}' increased coverage to {new_coverage}.\")\n",
        "\n",
        "        print(\"Fuzzing complete.\")"
      ],
      "metadata": {
        "id": "njwOzzRpYuri"
      },
      "execution_count": null,
      "outputs": []
    },
    {
      "cell_type": "code",
      "source": [
        "# Example usage\n",
        "def sample_function(input_str):\n",
        "    if \"bug\" in input_str:\n",
        "        raise ValueError(\"Found a bug!\")\n",
        "    elif \"error\" in input_str:\n",
        "        print(\"Potential issue detected.\")\n",
        "    elif \"warning\" in input_str:\n",
        "        print(\"Non-critical warning.\")\n",
        "    elif \"fail\" in input_str:\n",
        "        print(\"System failure detected!\")\n",
        "    elif \"1234\" in input_str:\n",
        "        print(\"Processing sensitive input...\")\n",
        "    elif input_str.startswith(\"admin\"):\n",
        "        print(\"Admin privileges detected.\")\n",
        "    elif \"debug\" in input_str and \"log\" in input_str:\n",
        "        print(\"Debugging mode enabled.\")\n",
        "    elif \"safe\" in input_str or \"secure\" in input_str:\n",
        "        print(\"Security mode active.\")\n",
        "    elif len(input_str) > 10:\n",
        "        print(\"Handling long input...\")\n",
        "    elif input_str.isdigit():\n",
        "        print(\"Processing numeric input.\")\n",
        "    elif \"!\" in input_str and \"?\" in input_str:\n",
        "        print(\"Detected a confused input!\")\n",
        "    else:\n",
        "        print(f\"Processing {input_str}\")\n",
        "\n",
        "\n",
        "\n",
        "\n",
        "fuzzer = CoverageGuidedFuzzer(sample_function, [\"test\"], max_iterations=50)\n",
        "fuzzer.run()\n"
      ],
      "metadata": {
        "colab": {
          "base_uri": "https://localhost:8080/"
        },
        "id": "sq_EdzVxYxh4",
        "outputId": "f4de10dc-4b54-45ce-a457-cad60ee9c0fe"
      },
      "execution_count": null,
      "outputs": [
        {
          "output_type": "stream",
          "name": "stdout",
          "text": [
            "[DEBUG] Covered lines: [2, 3, 4, 6, 7, 8, 9, 10, 11, 12, 13, 14, 16, 18, 20, 21]\n",
            "[Iteration 1] New input 't7st' increased coverage to 16.\n",
            "[DEBUG] Covered lines: [2, 3, 4, 6, 7, 8, 9, 10, 11, 12, 13, 14, 16, 18, 20, 21]\n",
            "[DEBUG] Covered lines: [2, 3, 4, 6, 7, 8, 9, 10, 11, 12, 13, 14, 16, 18, 20, 21]\n",
            "[DEBUG] Covered lines: [2, 3, 4, 6, 7, 8, 9, 10, 11, 12, 13, 14, 16, 18, 20, 21]\n",
            "[DEBUG] Covered lines: [2, 3, 4, 6, 7, 8, 9, 10, 11, 12, 13, 14, 16, 18, 20, 21]\n",
            "[DEBUG] Covered lines: [2, 3, 4, 6, 7, 8, 9, 10, 11, 12, 13, 14, 16, 18, 20, 21]\n",
            "[DEBUG] Covered lines: [2, 3, 4, 6, 7, 8, 9, 10, 11, 12, 13, 14, 16, 18, 20, 21]\n",
            "[DEBUG] Covered lines: [2, 3, 4, 6, 7, 8, 9, 10, 11, 12, 13, 14, 16, 18, 20, 21]\n",
            "[DEBUG] Covered lines: [2, 3, 4, 6, 7, 8, 9, 10, 11, 12, 13, 14, 16, 18, 20, 21]\n",
            "[DEBUG] Covered lines: [2, 3, 4, 6, 7, 8, 9, 10, 11, 12, 13, 14, 16, 18, 20, 21]\n",
            "[DEBUG] Covered lines: [2, 3, 4, 6, 7, 8, 9, 10, 11, 12, 13, 14, 16, 18, 20, 21]\n",
            "[DEBUG] Covered lines: [2, 3, 4, 6, 7, 8, 9, 10, 11, 12, 13, 14, 16, 18, 20, 21]\n",
            "[DEBUG] Covered lines: [2, 3, 4, 6, 7, 8, 9, 10, 11, 12, 13, 14, 16, 18, 20, 21]\n",
            "[DEBUG] Covered lines: [2, 3, 4, 6, 7, 8, 9, 10, 11, 12, 13, 14, 16, 18, 20, 21]\n",
            "[DEBUG] Covered lines: [2, 3, 4, 6, 7, 8, 9, 10, 11, 12, 13, 14, 16, 18, 20, 21]\n",
            "[DEBUG] Covered lines: [2, 3, 4, 6, 7, 8, 9, 10, 11, 12, 13, 14, 16, 18, 20, 21]\n",
            "[DEBUG] Covered lines: [2, 3, 4, 6, 7, 8, 9, 10, 11, 12, 13, 14, 16, 18, 20, 21]\n",
            "[DEBUG] Covered lines: [2, 3, 4, 6, 7, 8, 9, 10, 11, 12, 13, 14, 16, 18, 20, 21]\n",
            "[DEBUG] Covered lines: [2, 3, 4, 6, 7, 8, 9, 10, 11, 12, 13, 14, 16, 18, 20, 21]\n",
            "[DEBUG] Covered lines: [2, 3, 4, 6, 7, 8, 9, 10, 11, 12, 13, 14, 16, 18, 20, 21]\n",
            "[DEBUG] Covered lines: [2, 3, 4, 6, 7, 8, 9, 10, 11, 12, 13, 14, 16, 18, 20, 21]\n",
            "[DEBUG] Covered lines: [2, 3, 4, 6, 7, 8, 9, 10, 11, 12, 13, 14, 16, 18, 20, 21]\n",
            "[DEBUG] Covered lines: [2, 3, 4, 6, 7, 8, 9, 10, 11, 12, 13, 14, 16, 18, 20, 21]\n",
            "[DEBUG] Covered lines: [2, 3, 4, 6, 7, 8, 9, 10, 11, 12, 13, 14, 16, 18, 20, 21]\n",
            "[DEBUG] Covered lines: [2, 3, 4, 6, 7, 8, 9, 10, 11, 12, 13, 14, 16, 18, 20, 21]\n",
            "[DEBUG] Covered lines: [2, 3, 4, 6, 7, 8, 9, 10, 11, 12, 13, 14, 16, 18, 20, 21]\n",
            "[DEBUG] Covered lines: [2, 3, 4, 6, 7, 8, 9, 10, 11, 12, 13, 14, 16, 18, 20, 21]\n",
            "[DEBUG] Covered lines: [2, 3, 4, 6, 7, 8, 9, 10, 11, 12, 13, 14, 16, 18, 20, 21]\n",
            "[DEBUG] Covered lines: [2, 3, 4, 6, 7, 8, 9, 10, 11, 12, 13, 14, 16, 18, 20, 21]\n",
            "[DEBUG] Covered lines: [2, 3, 4, 6, 7, 8, 9, 10, 11, 12, 13, 14, 16, 18, 20, 21]\n",
            "[DEBUG] Covered lines: [2, 3, 4, 6, 7, 8, 9, 10, 11, 12, 13, 14, 16, 18, 20, 21]\n",
            "[DEBUG] Covered lines: [2, 3, 4, 6, 7, 8, 9, 10, 11, 12, 13, 14, 16, 18, 20, 21]\n",
            "[DEBUG] Covered lines: [2, 3, 4, 6, 7, 8, 9, 10, 11, 12, 13, 14, 16, 18, 20, 21]\n",
            "[DEBUG] Covered lines: [2, 3, 4, 6, 7, 8, 9, 10, 11, 12, 13, 14, 16, 18, 20, 21]\n",
            "[DEBUG] Covered lines: [2, 3, 4, 6, 7, 8, 9, 10, 11, 12, 13, 14, 16, 18, 20, 21]\n",
            "[DEBUG] Covered lines: [2, 3, 4, 6, 7, 8, 9, 10, 11, 12, 13, 14, 16, 18, 20, 21]\n",
            "[DEBUG] Covered lines: [2, 3, 4, 6, 7, 8, 9, 10, 11, 12, 13, 14, 16, 18, 20, 21]\n",
            "[DEBUG] Covered lines: [2, 3, 4, 6, 7, 8, 9, 10, 11, 12, 13, 14, 16, 18, 20, 21]\n",
            "[DEBUG] Covered lines: [2, 3, 4, 6, 7, 8, 9, 10, 11, 12, 13, 14, 16, 18, 20, 21]\n",
            "[DEBUG] Covered lines: [2, 3, 4, 6, 7, 8, 9, 10, 11, 12, 13, 14, 16, 18, 20, 21]\n",
            "[DEBUG] Covered lines: [2, 3, 4, 6, 7, 8, 9, 10, 11, 12, 13, 14, 16, 18, 20, 21]\n",
            "[DEBUG] Covered lines: [2, 3, 4, 6, 7, 8, 9, 10, 11, 12, 13, 14, 16, 18, 20, 21]\n",
            "[DEBUG] Covered lines: [2, 3, 4, 6, 7, 8, 9, 10, 11, 12, 13, 14, 16, 18, 20, 21]\n",
            "[DEBUG] Covered lines: [2, 3, 4, 6, 7, 8, 9, 10, 11, 12, 13, 14, 16, 18, 20, 21]\n",
            "[DEBUG] Covered lines: [2, 3, 4, 6, 7, 8, 9, 10, 11, 12, 13, 14, 16, 18, 20, 21]\n",
            "[DEBUG] Covered lines: [2, 3, 4, 6, 7, 8, 9, 10, 11, 12, 13, 14, 16, 18, 20, 21]\n",
            "[DEBUG] Covered lines: [2, 3, 4, 6, 7, 8, 9, 10, 11, 12, 13, 14, 16, 18, 20, 21]\n",
            "[DEBUG] Covered lines: [2, 3, 4, 6, 7, 8, 9, 10, 11, 12, 13, 14, 16, 18, 20, 21]\n",
            "[DEBUG] Covered lines: [2, 3, 4, 6, 7, 8, 9, 10, 11, 12, 13, 14, 16, 18, 20, 21]\n",
            "[DEBUG] Covered lines: [2, 3, 4, 6, 7, 8, 9, 10, 11, 12, 13, 14, 16, 18, 20, 21]\n",
            "Fuzzing complete.\n"
          ]
        }
      ]
    },
    {
      "cell_type": "code",
      "source": [
        "import matplotlib.pyplot as plt\n",
        "\n",
        "def plot_coverage_growth(coverage_data):\n",
        "    iterations = list(range(1, len(coverage_data) + 1))\n",
        "    coverage_values = list(coverage_data.values())\n",
        "\n",
        "    plt.plot(iterations, coverage_values, marker='o', linestyle='-')\n",
        "    plt.xlabel(\"Iteration\")\n",
        "    plt.ylabel(\"Coverage Score\")\n",
        "    plt.title(\"Coverage Growth Over Time\")\n",
        "    plt.show()\n"
      ],
      "metadata": {
        "id": "u9JDCxx-aiw6"
      },
      "execution_count": null,
      "outputs": []
    },
    {
      "cell_type": "code",
      "source": [
        "plot_coverage_growth(fuzzer.coverage_data)\n"
      ],
      "metadata": {
        "colab": {
          "base_uri": "https://localhost:8080/",
          "height": 472
        },
        "id": "cVvof5erapp4",
        "outputId": "fdd980b0-b2a0-4217-9c51-55dc0a13f511"
      },
      "execution_count": null,
      "outputs": [
        {
          "output_type": "display_data",
          "data": {
            "text/plain": [
              "<Figure size 640x480 with 1 Axes>"
            ],
            "image/png": "[encoded data removed]"
          },
          "metadata": {}
        }
      ]
    },
    {
      "cell_type": "markdown",
      "source": [
        "#Income Tax Calculator"
      ],
      "metadata": {
        "id": "qiXA4i5vMXr_"
      }
    },
    {
      "cell_type": "code",
      "source": [
        "import random\n",
        "import coverage\n",
        "import tempfile\n",
        "from collections import defaultdict\n",
        "import importlib.util"
      ],
      "metadata": {
        "id": "-m15RTeijUui"
      },
      "execution_count": 63,
      "outputs": []
    },
    {
      "cell_type": "code",
      "source": [
        "module_path = \"/content/tax_functions.py\"\n",
        "module_name = \"tax_module\"\n",
        "spec = importlib.util.spec_from_file_location(module_name, module_path)\n",
        "tax_module = importlib.util.module_from_spec(spec)\n",
        "spec.loader.exec_module(tax_module)\n",
        "\n",
        "\n",
        "oldtax = tax_module.oldtax\n",
        "newtax = tax_module.newtax"
      ],
      "metadata": {
        "id": "tbyCVOvAnewC"
      },
      "execution_count": 65,
      "outputs": []
    },
    {
      "cell_type": "code",
      "source": [
        "class IncomeTaxFuzzer:\n",
        "    def __init__(self, max_iterations=50):\n",
        "        self.max_iterations = max_iterations\n",
        "        self.coverage_tracker = coverage.Coverage(branch=True, data_file=tempfile.gettempdir() + \"/.coverage\")\n",
        "        self.coverage_data = defaultdict(int)\n",
        "\n",
        "        self.seed_population = [\n",
        "            0, 249999, 250000, 250001, 500000, 750000, 999999, 1000000, 2500000,\n",
        "            5000000, 10000000, -1, -100, -100000, 999999999\n",
        "        ]\n",
        "\n",
        "\n",
        "    def mutate_input(self, input_data):\n",
        "        \"\"\" Mutate the taxable income \"\"\"\n",
        "        #mutation_type = random.choice([\"increase\", \"decrease\", \"randomize\", \"zero\", \"negative\"])\n",
        "        mutation_type = random.choice([\"increase\", \"decrease\", \"randomize\"])\n",
        "\n",
        "        mutated_input = input_data\n",
        "\n",
        "        if mutation_type == \"increase\":\n",
        "            mutated_input += random.randint(100, 100000)\n",
        "        elif mutation_type == \"decrease\":\n",
        "            mutated_input = max(0, mutated_input - random.randint(100, 100000))\n",
        "        elif mutation_type == \"randomize\":\n",
        "            mutated_input = random.randint(-500000, 10000000)\n",
        "        elif mutation_type == \"zero\":\n",
        "            mutated_input = 0\n",
        "        elif mutation_type == \"negative\":\n",
        "            mutated_input = -random.randint(1000, 500000)\n",
        "\n",
        "        return mutated_input\n",
        "\n",
        "    def run(self):\n",
        "        \"\"\" Execute the fuzzing process \"\"\"\n",
        "        error_log_path = \"fuzzer_errors.log\"\n",
        "        with open(error_log_path, \"w\") as f:\n",
        "            f.write(\"Starting fuzzing tests...\\n\")\n",
        "\n",
        "        for i in range(self.max_iterations):\n",
        "            seed = random.choice(self.seed_population)\n",
        "            mutated_input = self.mutate_input(seed)\n",
        "\n",
        "            try:\n",
        "                tax_old = oldtax(mutated_input)\n",
        "                tax_new = newtax(mutated_input)\n",
        "\n",
        "                # Check if the tax is within expected range\n",
        "                if tax_old < 0 or tax_new < 0:\n",
        "                    error_message = f\"[ERROR] Negative tax found for income {mutated_input}\\n\"\n",
        "                    print(error_message)\n",
        "                    with open(error_log_path, \"a\") as f:\n",
        "                        f.write(error_message)\n",
        "\n",
        "                # Check if tax computation is consistent\n",
        "                if mutated_input < 250000 and (tax_old > 0 or tax_new > 0):\n",
        "                    error_message = f\"[ERROR] Unexpected tax for non-taxable income: {mutated_input}\\n\"\n",
        "                    print(error_message)\n",
        "                    with open(error_log_path, \"a\") as f:\n",
        "                        f.write(error_message)\n",
        "\n",
        "                print(f\"[Iteration {i+1}] Income: {mutated_input} | Old Tax: {tax_old} | New Tax: {tax_new}\")\n",
        "\n",
        "            except Exception as e:\n",
        "                error_message = f\"[EXCEPTION] Error at {mutated_input}: {e}\\n\"\n",
        "                print(error_message)\n",
        "                with open(error_log_path, \"a\") as f:\n",
        "                    f.write(error_message)\n",
        "\n",
        "        with open(error_log_path, \"a\") as f:\n",
        "          f.write(\"Fuzzing completed. No errors detected.\\n\")\n",
        "\n",
        "        print(f\"Fuzzing complete. Errors (if any) logged to {error_log_path}\")\n",
        "\n"
      ],
      "metadata": {
        "id": "OsiXJB5Gh4vj"
      },
      "execution_count": 86,
      "outputs": []
    },
    {
      "cell_type": "code",
      "source": [
        "if __name__ == \"__main__\":\n",
        "    fuzzer = IncomeTaxFuzzer(max_iterations=50)\n",
        "    fuzzer.run()"
      ],
      "metadata": {
        "colab": {
          "base_uri": "https://localhost:8080/"
        },
        "id": "8RAwVCgons2W",
        "outputId": "d236b16a-3033-4206-db59-a56001056d40"
      },
      "execution_count": 87,
      "outputs": [
        {
          "output_type": "stream",
          "name": "stdout",
          "text": [
            "[Iteration 1] Income: 8688363 | Old Tax: 2515769.256 | New Tax: 2437769.256\n",
            "[Iteration 2] Income: 7773697 | Old Tax: 2230393.464 | New Tax: 2152393.464\n",
            "[Iteration 3] Income: 4554361 | Old Tax: 1225960.632 | New Tax: 1147960.632\n",
            "[Iteration 4] Income: 7033549 | Old Tax: 1999467.288 | New Tax: 1921467.288\n",
            "[Iteration 5] Income: 4426178 | Old Tax: 1185967.5359999998 | New Tax: 1107967.5359999998\n",
            "[Iteration 6] Income: 1174447 | Old Tax: 171427.464 | New Tax: 114284.976\n",
            "[Iteration 7] Income: 222603 | Old Tax: 0.0 | New Tax: 0.0\n",
            "[Iteration 8] Income: 247518 | Old Tax: 0.0 | New Tax: 0.0\n",
            "[Iteration 9] Income: 221498 | Old Tax: 0.0 | New Tax: 0.0\n",
            "[Iteration 10] Income: 438542 | Old Tax: 9804.184000000001 | New Tax: 9804.184000000001\n",
            "[Iteration 11] Income: 5044715 | Old Tax: 1378951.08 | New Tax: 1300951.08\n",
            "[Iteration 12] Income: 655903 | Old Tax: 45427.824 | New Tax: 29213.912\n",
            "[Iteration 13] Income: 0 | Old Tax: 0.0 | New Tax: 0.0\n",
            "[Iteration 14] Income: 4942123 | Old Tax: 1346942.376 | New Tax: 1268942.376\n",
            "[Iteration 15] Income: 491626 | Old Tax: 12564.552 | New Tax: 12564.552\n",
            "[Iteration 16] Income: 3725615 | Old Tax: 967391.88 | New Tax: 889391.88\n",
            "[Iteration 17] Income: 10016756 | Old Tax: 2930227.872 | New Tax: 2852227.872\n",
            "[Iteration 18] Income: 2880772 | Old Tax: 703800.864 | New Tax: 625800.864\n",
            "[Iteration 19] Income: 469093 | Old Tax: 11392.836 | New Tax: 11392.836\n",
            "[Iteration 20] Income: -84216 | Old Tax: 0.0 | New Tax: 0.0\n",
            "[Iteration 21] Income: 822266 | Old Tax: 80031.328 | New Tax: 50273.496\n",
            "[Iteration 22] Income: 5079017 | Old Tax: 1389653.304 | New Tax: 1311653.304\n",
            "[Iteration 23] Income: 0 | Old Tax: 0.0 | New Tax: 0.0\n",
            "[Iteration 24] Income: 2411477 | Old Tax: 557380.824 | New Tax: 479380.82399999996\n",
            "[Iteration 25] Income: 0 | Old Tax: 0.0 | New Tax: 0.0\n",
            "[Iteration 26] Income: 2407277 | Old Tax: 556070.424 | New Tax: 478070.424\n",
            "[Iteration 27] Income: 10054583 | Old Tax: 2942029.8959999997 | New Tax: 2864029.8959999997\n",
            "[Iteration 28] Income: 201559 | Old Tax: 0.0 | New Tax: 0.0\n",
            "[Iteration 29] Income: 6571633 | Old Tax: 1855349.4959999998 | New Tax: 1777349.4959999998\n",
            "[Iteration 30] Income: 995021 | Old Tax: 115964.368 | New Tax: 77223.276\n",
            "[Iteration 31] Income: 479554 | Old Tax: 11936.808 | New Tax: 11936.808\n",
            "[Iteration 32] Income: 307602 | Old Tax: 2995.304 | New Tax: 2995.304\n",
            "[Iteration 33] Income: 0 | Old Tax: 0.0 | New Tax: 0.0\n",
            "[Iteration 34] Income: 3068928 | Old Tax: 762505.5360000001 | New Tax: 684505.5360000001\n",
            "[Iteration 35] Income: 9986191 | Old Tax: 2920691.5919999997 | New Tax: 2842691.5919999997\n",
            "[Iteration 36] Income: 4507957 | Old Tax: 1211482.584 | New Tax: 1133482.584\n",
            "[Iteration 37] Income: 5601102 | Old Tax: 1552543.824 | New Tax: 1474543.824\n",
            "[Iteration 38] Income: 7231865 | Old Tax: 2061341.88 | New Tax: 1983341.88\n",
            "[Iteration 39] Income: 5235094 | Old Tax: 1438349.328 | New Tax: 1360349.328\n",
            "[Iteration 40] Income: 1015846 | Old Tax: 121943.952 | New Tax: 81295.968\n",
            "[Iteration 41] Income: 9380124 | Old Tax: 2731598.688 | New Tax: 2653598.688\n",
            "[Iteration 42] Income: 4066923 | Old Tax: 1073879.976 | New Tax: 995879.976\n",
            "[Iteration 43] Income: 2546203 | Old Tax: 599415.336 | New Tax: 521415.336\n",
            "[Iteration 44] Income: 336471 | Old Tax: 4496.492 | New Tax: 4496.492\n",
            "[Iteration 45] Income: 9938028 | Old Tax: 2905664.736 | New Tax: 2827664.736\n",
            "[Iteration 46] Income: 942222 | Old Tax: 104982.17599999999 | New Tax: 68986.632\n",
            "[Iteration 47] Income: 2595455 | Old Tax: 614781.96 | New Tax: 536781.96\n",
            "[Iteration 48] Income: 999924710 | Old Tax: 311781509.52 | New Tax: 311703509.52\n",
            "[Iteration 49] Income: 767473 | Old Tax: 68634.384 | New Tax: 41725.788\n",
            "[Iteration 50] Income: 3482667 | Old Tax: 891592.1039999999 | New Tax: 813592.1039999999\n",
            "Fuzzing complete. Errors (if any) logged to fuzzer_errors.log\n"
          ]
        }
      ]
    },
    {
      "cell_type": "code",
      "source": [
        "!ls -la /content/\n"
      ],
      "metadata": {
        "colab": {
          "base_uri": "https://localhost:8080/"
        },
        "id": "BoL2s6MDoudG",
        "outputId": "cd91ded6-3c34-4271-9818-7ee7559bdfe9"
      },
      "execution_count": 88,
      "outputs": [
        {
          "output_type": "stream",
          "name": "stdout",
          "text": [
            "total 84\n",
            "drwxr-xr-x 1 root root  4096 Mar 14 03:02 .\n",
            "drwxr-xr-x 1 root root  4096 Mar 14 02:00 ..\n",
            "drwxr-xr-x 4 root root  4096 Mar 12 13:34 .config\n",
            "-rw-r--r-- 1 root root 53248 Mar 14 02:03 .coverage\n",
            "drwxr-xr-x 6 root root  4096 Mar 14 03:07 Income-Tax-Calculator\n",
            "drwxr-xr-x 2 root root  4096 Mar 14 03:01 .ipynb_checkpoints\n",
            "drwxr-xr-x 2 root root  4096 Mar 14 03:02 __pycache__\n",
            "drwxr-xr-x 1 root root  4096 Mar 12 13:35 sample_data\n",
            "-rw-r--r-- 1 root root  1689 Mar 14 03:01 tax_functions.py\n"
          ]
        }
      ]
    },
    {
      "cell_type": "code",
      "source": [
        "!cat fuzzer_errors.log\n"
      ],
      "metadata": {
        "colab": {
          "base_uri": "https://localhost:8080/"
        },
        "id": "rdA56riNqIHW",
        "outputId": "b23c30f3-99af-45ad-aade-b78564123dd1"
      },
      "execution_count": 89,
      "outputs": [
        {
          "output_type": "stream",
          "name": "stdout",
          "text": [
            "Starting fuzzing tests...\n",
            "Fuzzing completed. No errors detected.\n"
          ]
        }
      ]
    }
  ]
}